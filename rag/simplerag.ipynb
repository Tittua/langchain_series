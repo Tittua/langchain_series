{
 "cells": [
  {
   "cell_type": "code",
   "execution_count": 11,
   "metadata": {},
   "outputs": [
    {
     "data": {
      "text/plain": [
       "[Document(page_content='The world must be made safe for democracy. Its peace must be planted upon the tested foundations of political liberty. We have no selfish ends to serve. We desire no conquest, no dominion. We seek no indemnities for ourselves, no material compensation for the sacrifices we shall freely make. We are but one of the champions of the rights of mankind. We shall be satisfied when those rights have been made as secure as the faith and the freedom of nations can make them.\\n\\nJust because we fight without rancor and without selfish object, seeking nothing for ourselves but what we shall wish to share with all free peoples, we shall, I feel confident, conduct our operations as belligerents without passion and ourselves observe with proud punctilio the principles of right and of fair play we profess to be fighting for.\\n', metadata={'source': 'speech.txt'})]"
      ]
     },
     "execution_count": 11,
     "metadata": {},
     "output_type": "execute_result"
    }
   ],
   "source": [
    "from langchain_community.document_loaders import TextLoader\n",
    "loader=TextLoader('speech.txt')\n",
    "text_documents=loader.load()\n",
    "text_documents"
   ]
  },
  {
   "cell_type": "code",
   "execution_count": 2,
   "metadata": {},
   "outputs": [],
   "source": [
    "import os\n",
    "from dotenv import load_dotenv\n",
    "\n",
    "load_dotenv()\n",
    "os.environ[\"LANGCHAIN_TRACING_V2\"]=\"true\"\n",
    "os.environ[\"LANGCHAIN_API_KEY\"]=os.getenv(\"LANGCHAIN_API_KEY\")\n",
    "\n"
   ]
  },
  {
   "cell_type": "code",
   "execution_count": null,
   "metadata": {},
   "outputs": [],
   "source": [
    "#data loading technique\n",
    "from langchain_community.document_loaders import WebBaseLoader\n",
    "import bs4\n"
   ]
  },
  {
   "cell_type": "code",
   "execution_count": null,
   "metadata": {},
   "outputs": [],
   "source": [
    "## load,chunk and index the content of the html page\n",
    "\n",
    "loader=WebBaseLoader(web_paths=(\"https://lilianweng.github.io/posts/2023-06-23-agent/\",),\n",
    "                     bs_kwargs=dict(parse_only=bs4.SoupStrainer(\n",
    "                         class_=(\"post-title\",\"post-content\",\"post-header\")\n",
    "\n",
    "                     )))\n",
    "\n",
    "text_documents=loader.load()"
   ]
  },
  {
   "cell_type": "code",
   "execution_count": 23,
   "metadata": {},
   "outputs": [
    {
     "data": {
      "text/plain": [
       "[Document(page_content='The world must be made safe for democracy. Its peace must be planted upon the tested foundations of political liberty. We have no selfish ends to serve. We desire no conquest, no dominion. We seek no indemnities for ourselves, no material compensation for the sacrifices we shall freely make. We are but one of the champions of the rights of mankind. We shall be satisfied when those rights have been made as secure as the faith and the freedom of nations can make them.\\n\\nJust because we fight without rancor and without selfish object, seeking nothing for ourselves but what we shall wish to share with all free peoples, we shall, I feel confident, conduct our operations as belligerents without passion and ourselves observe with proud punctilio the principles of right and of fair play we profess to be fighting for.\\n', metadata={'source': 'speech.txt'})]"
      ]
     },
     "execution_count": 23,
     "metadata": {},
     "output_type": "execute_result"
    }
   ],
   "source": [
    "text_documents"
   ]
  },
  {
   "cell_type": "code",
   "execution_count": null,
   "metadata": {},
   "outputs": [],
   "source": [
    "#data injection from pdf\n",
    "from langchain_community.document_loaders import PyPDFLoader\n",
    "loader=PyPDFLoader(r'E:\\langchain\\rag\\450X_Gen_4_2023_QSG.pdf')\n",
    "docs=loader.load()"
   ]
  },
  {
   "cell_type": "code",
   "execution_count": null,
   "metadata": {},
   "outputs": [
    {
     "data": {
      "text/plain": [
       "[Document(page_content='QUICK START GUIDE', metadata={'source': 'E:\\\\langchain\\\\rag\\\\450X_Gen_4_2023_QSG.pdf', 'page': 0}),\n",
       " Document(page_content='01 KNOW YOUR SCOOTER\\n14 ON THE ROAD\\n31 CHARGING\\n37 SCOOTER SHUTDOWN\\n39 CARING FOR YOUR SCOOTERINDEX', metadata={'source': 'E:\\\\langchain\\\\rag\\\\450X_Gen_4_2023_QSG.pdf', 'page': 1}),\n",
       " Document(page_content='Ather 450X® was crafted with obsessive attention \\nto detail. It was designed from the ground up to \\nmake urban stop-and-go traﬃc more bearable. \\nBut before you get on the easy, comfy ride, here’s \\neverything you need to know.\\nThis quick start guide will tell you all about the \\nfeatures and components of the Ather 450X, the \\nAther AppTM, the battery pack and the Ather DotTM.\\nThis guide helps you get going, the moment you \\nreceive your Ather 450X keys.\\nDisclaimer: All the Ather ConnectTM features on the app are available \\nonly with the Pro.', metadata={'source': 'E:\\\\langchain\\\\rag\\\\450X_Gen_4_2023_QSG.pdf', 'page': 2}),\n",
       " Document(page_content='THE TWO BIG WORDS\\nWARNING  indicates something that could hurt \\nyou or others.\\nThe other one is CAUTION , it indicates something \\nthat could harm your scooter.', metadata={'source': 'E:\\\\langchain\\\\rag\\\\450X_Gen_4_2023_QSG.pdf', 'page': 3}),\n",
       " Document(page_content='WARNING\\n• FIRST AND FOREMOST\\nRead this thoroughly before your ﬁrst ride. So many \\nthings are new. Once you understand all the \\ncontrols and features, you’ll be ready to hit the road.\\n• MAINTENANCE IS A MUST\\nAlong with good ride handling skills, regular \\ninspection and maintenance are essential for a \\ngreat experience. Following these simple rules will \\nmake sure that your warranty stays intact.\\n• NO TINKERING\\nWe know you wouldn’t mess around with the high \\nvoltage components like the battery pack, motor \\netc. Still we need to put on paper that they should \\nbe serviced only by Ather technicians.', metadata={'source': 'E:\\\\langchain\\\\rag\\\\450X_Gen_4_2023_QSG.pdf', 'page': 4}),\n",
       " Document(page_content='KNOW \\nYOUR \\nATHER \\nCLOSEL Y1', metadata={'source': 'E:\\\\langchain\\\\rag\\\\450X_Gen_4_2023_QSG.pdf', 'page': 5}),\n",
       " Document(page_content='1\\n2\\n3\\n4\\n5\\n6711\\n10\\n9\\n8LEFT SIDE VIEW\\n1Rear view mirror\\n2Integrated indicator lamps\\n3Head lamp\\n4Alloy wheels\\n5Front disc brake\\n6Side stand with sensorPillion footrest 7\\nSaree guard 8\\nRear fender number plate mount 9\\nRear side panel 10\\nTail and indicator lamps 11\\n1 Know your scooter', metadata={'source': 'E:\\\\langchain\\\\rag\\\\450X_Gen_4_2023_QSG.pdf', 'page': 6}),\n",
       " Document(page_content='1\\n2\\n3\\n4\\n5\\n6 78910RIGHT SIDE VIEW\\n1Pillion grabrail\\n2Rear side panel\\n3Rear suspension\\n4Swing arm\\n5Rear disc brake6Drive belt\\nPulley 7\\nFront fork suspension 8\\nFloating panel 9\\nAccelerator grip 10\\n2 Know your scooter', metadata={'source': 'E:\\\\langchain\\\\rag\\\\450X_Gen_4_2023_QSG.pdf', 'page': 7}),\n",
       " Document(page_content='DASHBOARD \\nAND SWITCHGEAR\\n1Touchscreen dashboard\\n2Joystick\\n3LHS grip and switchgear \\n4Charging port\\n5Luggage hook and switchgear 6RHS grip/accelerator \\nand switchgear \\nFront brake lever 71\\n2\\n3\\n67\\n4\\n5\\n3 Know your scooter', metadata={'source': 'E:\\\\langchain\\\\rag\\\\450X_Gen_4_2023_QSG.pdf', 'page': 8}),\n",
       " Document(page_content='DASHBOARD \\nAND SWITCHGEAR\\n1Headlight high/low beam switch\\n2Combined braking system\\n3Turning indicator\\n4Horn\\n5Motor starter6Mode change switch\\nKill switch 71\\n2\\n3687\\n45\\nDisclaimer: Riding modes available only with the Pro.\\n4 Know your scooterPark AssistTM 8', metadata={'source': 'E:\\\\langchain\\\\rag\\\\450X_Gen_4_2023_QSG.pdf', 'page': 9}),\n",
       " Document(page_content='SWITCHGEAR: \\nLEFT-HAND SIDE\\nHORN\\nPress this switch when you need to sound the horn.\\nTURNING INDICATOR\\nToggle this switch left/right to turn ON the indicator \\nlights. They turn OFF automatically once the turn is \\ncomplete. Press the center to turn OFF the \\nindicator manually.\\nHIGH BEAM SWITCH\\nThis switch turns on the high beam headlight. Avoid \\nusing this as the default mode to avoid \\ninconveniencing fellow riders on the road.\\nCOMBINED BRAKING SYSTEM\\nThe lever on the left-hand side activates the \\nCombined Braking System that applies brakes to \\nboth the wheels.\\n5 Know your scooterDisclaimer: Auto turn indicator is only available with the Pro.', metadata={'source': 'E:\\\\langchain\\\\rag\\\\450X_Gen_4_2023_QSG.pdf', 'page': 10}),\n",
       " Document(page_content='JOYSTICK\\nUse the joystick to navigate through Bluetooth \\ncontrols, charging controls, ride and feature \\nsettings.\\nDisclaimer: Some Bluetooth, ride and feature settings are available only \\nwith the Pro.\\n6 Know your scooter', metadata={'source': 'E:\\\\langchain\\\\rag\\\\450X_Gen_4_2023_QSG.pdf', 'page': 11}),\n",
       " Document(page_content='SWITCHGEAR: \\nRIGHT-HAND SIDE\\nMOTOR STARTER\\nTurns the motor ON, and kickstarts the scooter.\\nIt also changes directions when using Park AssistTM. \\nTOGGLE SWITCH\\nSwitches between riding modes displayed on the \\nscreen with a left/right toggle, when the key is ON. \\nChanges the mode while riding as well. To do so, \\nthe throttle has to be at 0.\\nKILL SWITCH\\nDisables the motor controller to help you be extra \\nsure that the motor is OFF when you need to halt.\\n7 Know your scooter', metadata={'source': 'E:\\\\langchain\\\\rag\\\\450X_Gen_4_2023_QSG.pdf', 'page': 12}),\n",
       " Document(page_content='ACCELERATOR GRIP\\nControls the acceleration and speed of the scooter. \\nIt also activates regenerative braking when twisted \\nin the reverse (anti-clockwise) direction.\\nFRONT BRAKE LEVER\\nActuates the front brake to control the speed of the \\nscooter.\\nPARK ASSISTTM SWITCH\\nEngages Park AssistTM mode when stationary.\\nDisclaimer: Bluetooth controls are available only with the Pro.\\n8 Know your scooter', metadata={'source': 'E:\\\\langchain\\\\rag\\\\450X_Gen_4_2023_QSG.pdf', 'page': 13}),\n",
       " Document(page_content='UNDER-SEAT STORAGE\\nSmartly designed to accommodate a full-sized \\nhelmet, it also has an LED strip lamp so that ﬁnding \\nthings in poorly lit parking spaces is easier. Carry up \\nto 15 kg and a volume of 22L.\\nCAUTION\\nDo not overﬁll the under-seat storage. A simple \\ncheck: the seat should close eﬀortlessly when you \\ndrop it down. If you need to press it down, it’s \\nover-packed and there is a high possibility that it \\ngets damaged.LED\\n9 Know your scooter', metadata={'source': 'E:\\\\langchain\\\\rag\\\\450X_Gen_4_2023_QSG.pdf', 'page': 14}),\n",
       " Document(page_content='SCOOTER IDENTIFICATION NUMBER (VIN) / \\nCHASSIS NUMBER\\nEach scooter has a unique VIN. On the Ather 450X, it \\nis engraved on the chassis. Remove the rubber \\ngrommet in the under-seat storage to access it.\\nIt’s a 17 digit number in this format: MYH \\nXXXXXXXXXXXXXXCAUTION\\nThe storage box is built to be rain-proof. But water \\ncan seep through if a pressure jet wash is used to \\nclean the scooter. Remember to empty the \\nunder-seat storage before washing. Always store \\nthe portable charger in its cover to protect it from \\nwater leaks.\\n10 Know your scooter', metadata={'source': 'E:\\\\langchain\\\\rag\\\\450X_Gen_4_2023_QSG.pdf', 'page': 15}),\n",
       " Document(page_content='MOTOR SERIAL NUMBER\\nCan be spotted at the bottom of the scooter, on the \\nmotor itself.\\nKEY CODE NUMBER\\nMentioned on the key.\\nSOFTWARE VERSION NUMBER\\nSwipe down on the dashboard for the quick access \\nscreen. Press the gear icon > go to ‘Settings’. Tap on \\nthe proﬁle section to ﬁnd ‘Software Version’.1\\n11 Know your scooter', metadata={'source': 'E:\\\\langchain\\\\rag\\\\450X_Gen_4_2023_QSG.pdf', 'page': 16}),\n",
       " Document(page_content='A THER APPTM\\nAPP INSTALLATION\\n•Download the Ather AppTM from the Google Play \\nStore or Apple App Store.\\n•Use the login credentials of your Ather portal \\naccount to login to the app.\\n•The app syncs with the scooter only when both \\nyour phone and the scooter have good network \\ncoverage. The app displays the time when they \\nwere last synced.\\nFAST CHARGING AT ATHER GRID\\nTo locate an Ather Grid    public fast charging point, \\ngo to the app or navigation screen.\\nDisclaimer: All Ather ConnectTM features on the app are available only \\nwith the Pro.\\n12 Know your scooter', metadata={'source': 'E:\\\\langchain\\\\rag\\\\450X_Gen_4_2023_QSG.pdf', 'page': 17}),\n",
       " Document(page_content='TIME TO \\nGET ON \\nTHE ROAD2', metadata={'source': 'E:\\\\langchain\\\\rag\\\\450X_Gen_4_2023_QSG.pdf', 'page': 18}),\n",
       " Document(page_content='JUST BEFORE YOU GET ON \\nTHE SCOOTER\\nTHE CHECKLIST\\n•Tyre pressure & condition\\n•Drive belt (No slacking)\\n•Charge status\\n•Peripherals: Horn, headlights, pilot lamps, \\nindicators and tail lights\\n•Screen intactness\\n•Rear view mirror position\\n•Smooth functioning of the handlebar (twist & turn \\nto check if it is normal)\\n•Perfectly working brakes\\nRECOMMENDED TYRE PRESSURE\\n•Solo rider:\\n30 PSI front & 28 PSI back\\n•With a pillion:\\n30 PSI front & 32 PSI back\\n14 On the road', metadata={'source': 'E:\\\\langchain\\\\rag\\\\450X_Gen_4_2023_QSG.pdf', 'page': 19}),\n",
       " Document(page_content='THINGS TO KEEP \\nIN MIND\\nSTRONG AND SILENT MOTOR\\nSo silent, you won’t even realise it’s running. Keep \\nan eye on the dashboard for the motor OFF/ON \\nindicator. Use the kill switch whenever at signals to \\navoid accidents from any unintended acceleration.\\nSUPER RESPONSIVE BRAKES\\nBoth the wheels have pretty responsive disc brakes. \\nSo press the brakes gently, until you get used to \\nthem.\\nHYPER QUICK MOTOR\\nElectric motors have a higher torque, which means \\nthe acceleration will be quick and sudden. Take it \\neasy on the accelerator till you get a hang of it.\\n15 On the road', metadata={'source': 'E:\\\\langchain\\\\rag\\\\450X_Gen_4_2023_QSG.pdf', 'page': 20}),\n",
       " Document(page_content='GOOD (AND NEW) THINGS TAKE TIME\\nPark AssistTM is something new. The speed while \\ngoing forward is 5 km/h and 3 km/h in reverse. It’s \\njust better to be extra careful to make sure that \\nnobody gets hurt.\\n16 On the road', metadata={'source': 'E:\\\\langchain\\\\rag\\\\450X_Gen_4_2023_QSG.pdf', 'page': 21}),\n",
       " Document(page_content='SAFETY AND OPERA TING \\nINSTRUCTIONS\\nAs a precaution, wear appropriate safety gear while \\nriding: a helmet that conforms to prescribed \\nstandards, eye protection gear, riding boots and \\ngloves.\\nDo not consume alcohol or drugs that aﬀect your \\nreﬂexes, before or while you are riding.\\nDo not overload the ﬂoorboard. It can handle up to \\n30 kg of weight. We recommend that you distribute \\nthe weight evenly for better ride handling.\\nIf you have been riding in the rain, wait for 15 minutes \\nbefore plugging in the scooter. Wipe oﬀ the water \\non the port using a soft, dry cloth.\\nNever allow others to ride without proper \\ninstructions and licences as per applicable state \\nlaws.\\nWe strongly advise against any alteration or \\nmodiﬁcation, as they may cause safety hazards.\\n17 On the road', metadata={'source': 'E:\\\\langchain\\\\rag\\\\450X_Gen_4_2023_QSG.pdf', 'page': 22}),\n",
       " Document(page_content='PRECAUTIONS FOR A \\nSAFE ELECTRIC RIDE\\nIn case of an accident, do not touch wiring \\nconnectors or the wired components.\\nIn the highly unlikely event of a battery ﬁre, \\nextinguish the ﬂame by ﬂooding it with a lot of water. \\nA water hose should be used, and the person doing \\nthis must be at least a couple of metres away from \\nthe scooter. Make sure the scooter is unplugged \\nfrom the charging point. If it isn’t, switch OFF the \\nmain power supply immediately to cut oﬀ the \\nelectricity ﬂow.\\nOnce the ﬁre is extinguished, keep ﬂooding the \\nbattery with water every 30 minutes, for up to \\n2 hours. Check on it at regular intervals for a few \\nhours to be extra sure that the ﬁre doesn’t reignite.\\n18 On the road', metadata={'source': 'E:\\\\langchain\\\\rag\\\\450X_Gen_4_2023_QSG.pdf', 'page': 23}),\n",
       " Document(page_content='CAUTION\\nNever lift the scooter by pulling the handlebar.\\nWARNING\\nIn case of ﬁre, please call customer support to \\nlet us know and we will provide any assistance \\nrequired.\\nA high voltage electronic \\ndevice\\n19 On the road', metadata={'source': 'E:\\\\langchain\\\\rag\\\\450X_Gen_4_2023_QSG.pdf', 'page': 24}),\n",
       " Document(page_content='TURNING THE SCOOTER \\nON AND RIDING\\n1\\n2\\n       UNLOCK THE HANDLEBAR\\nInsert the key in the keyhole located under the \\nhandlebar, on the right-hand side. Turn the key \\nclockwise, and it’s unlocked.1\\n20 On the road', metadata={'source': 'E:\\\\langchain\\\\rag\\\\450X_Gen_4_2023_QSG.pdf', 'page': 25}),\n",
       " Document(page_content='       OPEN THE UNDER-SEAT STORAGE\\nOnce the handlebar is unlocked, turn the key \\nanti-clockwise to open the underseat storage. Take \\nyour helmet out, wear it, simply drop the seat to lock \\nit. Check the seat lock once, just to be doubly sure. \\nNow you are all set for the ride!2\\n21 On the road', metadata={'source': 'E:\\\\langchain\\\\rag\\\\450X_Gen_4_2023_QSG.pdf', 'page': 26}),\n",
       " Document(page_content='TURNING THE SCOOTER \\nON AND RIDING\\n       SWITCH ON THE DISPLAY\\nOnce the key is turned ON, it will activate the 1\\n132\\n4\\n3\\nWARNING\\nThe scooter makes no signiﬁcant sound when the \\nmotor is ON.\\n22 On the roadDisclaimer: Range display and riding modes on the dashboard are only \\navailable with the Pro.', metadata={'source': 'E:\\\\langchain\\\\rag\\\\450X_Gen_4_2023_QSG.pdf', 'page': 27}),\n",
       " Document(page_content='dashboard, showing the current time, available \\nrange and riding modes.\\n       DISENGAGE KILL SWITCH\\nIf the kill switch is engaged, the motor will not \\nswitch ON.\\n       ACTIVATE THE MOTOR\\nPress the brake lever (either one) and the motor \\nstart switch ON the right-hand side of the handlebar \\nto make the riding screen appear.\\n      TOGGLE TO CHANGE RIDING MODE\\nSwitch between Ride, Eco, Sport and Warp.2\\n3\\n4\\n23 On the road', metadata={'source': 'E:\\\\langchain\\\\rag\\\\450X_Gen_4_2023_QSG.pdf', 'page': 28}),\n",
       " Document(page_content='       PARK ASSISTTM\\nTo move in reverse press the Park AssistTM button \\nwhen stationary. Slowly rev the throttle (RHS \\nhandlebar) to start moving backwards. To move \\nforward in Park AssistTM, press the “Activate motor” \\nbutton before revving the throttle.\\nWARNING\\nKick back the side stand, before you start riding. For \\nyour safety, the motor gets activated only when the \\nside stand is disengaged.1\\nBrake (R)\\nStartIndicator cancelBrake (L)\\n24 On the road', metadata={'source': 'E:\\\\langchain\\\\rag\\\\450X_Gen_4_2023_QSG.pdf', 'page': 29}),\n",
       " Document(page_content='TURNING THE SCOOTER \\nON AND RIDING\\nMAINTAINING SPEED\\nRev the accelerator throttle and use the brakes to \\nmaintain speed. Avoid using both the accelerator \\nand the brake at the same time.\\nSLOWING DOWN AND BRAKING\\nBring the throttle back to zero. Either use the \\n25 On the road', metadata={'source': 'E:\\\\langchain\\\\rag\\\\450X_Gen_4_2023_QSG.pdf', 'page': 30}),\n",
       " Document(page_content='Combined Braking System or apply both brakes \\nsimultaneously to bring the scooter to a halt. Use \\nthe kill switch to turn the motor OFF, in case you plan \\nto stop for some time.\\nCAUTION\\nIn wet weather, it takes longer to slow down or come \\nto a halt. Start braking a little earlier than you would \\nnormally, especially when going around corners and \\nturning.\\nWARNING\\nAny unintended acceleration could injure you or \\nothers on the road. Use the motor kill switch at any \\ntraﬃc stop.\\n26 On the road', metadata={'source': 'E:\\\\langchain\\\\rag\\\\450X_Gen_4_2023_QSG.pdf', 'page': 31}),\n",
       " Document(page_content='REGENERATIVE BRAKING\\nRecover the scooter’s kinetic energy and convert it \\nto be stored in the battery. To activate Regenerative \\nBraking, the battery should be below 80% and \\nspeeds above 20 km/h.\\nHOW TO ACTIVATE IT?\\nPress the brake levers or rev the throttle in the \\nopposite direction (anti-clockwise). Algorithms \\ndictate the amount of regen, depending on the \\nbattery state and speed of the scooter.\\nREGEN DISABLED\\nRegen is disabled when the charge status is high \\n(higher the remaining range, lesser the regen) or \\nwhen the battery temperature is high.\\nCAUTION\\nThe scooter can’t be brought to a halt using \\nregenerative braking as it gets activated only when \\nyou’re going over 20 km/h.\\n27 On the road', metadata={'source': 'E:\\\\langchain\\\\rag\\\\450X_Gen_4_2023_QSG.pdf', 'page': 32}),\n",
       " Document(page_content='CAUTION\\nThe scooter may be throttled down to Eco Mode \\nwhen the battery charge is too low.\\nWARNING\\nIn case of errors or glitches, performance may be \\nrestricted to ensure the rider’s safety. If this \\nhappens, please contact customer support \\nimmediately.\\n28 On the roadDisclaimer: Eco Mode is only available with the Pro.', metadata={'source': 'E:\\\\langchain\\\\rag\\\\450X_Gen_4_2023_QSG.pdf', 'page': 33}),\n",
       " Document(page_content='TURNING THE SCOOTER \\nOFF AND PARKING\\nSTOPPING YOUR SCOOTER\\nBring the accelerator throttle back to zero. Use the \\nkill switch to turn OFF the motor. Turn the key back \\nto the LOCK position and remove it.\\nIf Guide-me-home Light is ON, the headlight will \\nswitch OFF automatically in ~15 seconds.\\n29 On the roadDisclaimer: Guide-me-home Light is only available with the Pro.', metadata={'source': 'E:\\\\langchain\\\\rag\\\\450X_Gen_4_2023_QSG.pdf', 'page': 34}),\n",
       " Document(page_content='CAUTION\\nThe key should be removed anytime the scooter is \\nleft unattended. You don’t want somebody \\nstealing it.\\nPARKING\\nUse your left foot to disengage the side stand. \\nAlways engage the side stand when you’ve to park. \\nAlso, always try to park on level and ﬁrm ground.\\nCAUTION\\nPark under shade wherever possible. Continuous, \\nlong-term exposure to sunlight could cause \\ndiscolouration of the screen. Lesser exposure to \\nheat is good for battery life and display health.\\nWARNING\\n•Always use the kill switch if the side stand is \\nengaged.\\n•Do not sit on the scooter when parked on the side \\nstand.\\n•Do not move the scooter with the side stand \\nengaged.\\n•Always ensure the side stand is completely \\nopened up while parking.\\nOn the road 30', metadata={'source': 'E:\\\\langchain\\\\rag\\\\450X_Gen_4_2023_QSG.pdf', 'page': 35}),\n",
       " Document(page_content='CHARGE \\nIT UP3', metadata={'source': 'E:\\\\langchain\\\\rag\\\\450X_Gen_4_2023_QSG.pdf', 'page': 36}),\n",
       " Document(page_content='USING THE A THER DOT\\nPLUGGING IT IN\\nTurn the key to the ON position. Gently pull down the \\nconnector from the holder, open the charging port \\nﬂap on the scooter and plug it in. Key should be in \\nthe OFF position for the scooter to start charging \\nautomatically.Pull the \\nconnector out\\nCharge it up 32', metadata={'source': 'E:\\\\langchain\\\\rag\\\\450X_Gen_4_2023_QSG.pdf', 'page': 37}),\n",
       " Document(page_content='Charge it up 33', metadata={'source': 'E:\\\\langchain\\\\rag\\\\450X_Gen_4_2023_QSG.pdf', 'page': 38}),\n",
       " Document(page_content='UNPLUGGING IT\\nBefore you pull out the cable, turn the key to the ON \\nposition to unlock the connector.\\nKeep the key in the ON position, wait for 5 seconds, \\nremove the charging connector, and put it back in \\nthe Ather Dot holder. Remember to close the \\ncharging port ﬂap on the scooter.\\nYou can check the charge status on the dashboard \\nwhile it’s charging. You can also check it on your \\nphone, by using Ather app.\\nCAUTION\\nDo not leave the connector on the ground to avoid \\ndamage through dust and water ingress.\\nDo not try to forcefully pull the connector out. Try \\nturning the key to OFF, back to ON and try again. It \\nshould come out eﬀortlessly.\\nDisclaimer: Remote charge status on the Ather app is available only \\nwith the Pro.\\nCharge it up 34', metadata={'source': 'E:\\\\langchain\\\\rag\\\\450X_Gen_4_2023_QSG.pdf', 'page': 39}),\n",
       " Document(page_content='WHAT DOES THE LED SAY?\\nThe charger tells you what it’s up to, with an LED \\nlight that changes colours.\\nNOTE\\nIf you don’t see any light (when there is power in \\nyour premises), press the Reset button on the PRCD \\n(Portable Residual Current Device). If it still doesn’t \\nrespond, please contact customer support.\\nUsing the Portable Charger plug in the 3-pin \\nconnector of the charging cable into the 5A socket. Solid amber light: Charger software is being \\nupdated over the air.\\nSolid green light: When not connected to the \\nscooter, the charger is functional.\\nWhen connected to the scooter, charging is \\ncomplete.\\nBlinking green light: Charging in progress.\\nSolid red light: Fault in the charger. Please \\ncontact customer support.\\nNo light: No power.\\nCharge it up 35', metadata={'source': 'E:\\\\langchain\\\\rag\\\\450X_Gen_4_2023_QSG.pdf', 'page': 40}),\n",
       " Document(page_content='Plug in the other end of the cable to the scooter’s \\ncharging port. Turn the key to OFF position and pull \\nit out. To plug out, keep the key in the ON position, \\nwait for 5 seconds, then remove the charging \\nconnector and close the charging port ﬂap.\\nCAUTION\\nRemove the key once your scooter is connected to \\nthe charger or disconnected from the charging \\ncable. Do not turn the key ON and pull out the \\nconnector at the same time. Hold on for 5 seconds \\nto pull the connector out. Do not remove the \\nconnector while your scooter is charging. You run \\nthe risk of damaging the connector and/or the \\nscooter.\\nCharge it up 36', metadata={'source': 'E:\\\\langchain\\\\rag\\\\450X_Gen_4_2023_QSG.pdf', 'page': 41}),\n",
       " Document(page_content='SCOOTER \\nSHUTDOWN4', metadata={'source': 'E:\\\\langchain\\\\rag\\\\450X_Gen_4_2023_QSG.pdf', 'page': 42}),\n",
       " Document(page_content='VEHICLE SHUTDOWN\\nHIBERNATION\\nWhen the scooter is not in use (unplugged, with the \\nkey turned OFF), the electronics consume \\nnegligible power. The battery drains extremely \\nslowly. But, if you don’t ride for around 25 days, you \\nshould charge for a few hours before you head out.\\nHOW TO SHUT DOWN\\nBy heading to the settings section on the \\ndashboard.\\nCAUTION\\nCharge your scooter every 100 days. It’s a must, \\neven if the scooter is in Shutdown Mode. This \\nprevents permanent damage to the battery pack.\\nScooter shutdown 38', metadata={'source': 'E:\\\\langchain\\\\rag\\\\450X_Gen_4_2023_QSG.pdf', 'page': 43}),\n",
       " Document(page_content='CARING \\nFOR YOUR \\nSCOOTER5', metadata={'source': 'E:\\\\langchain\\\\rag\\\\450X_Gen_4_2023_QSG.pdf', 'page': 44}),\n",
       " Document(page_content='THINGS TO KEEP IN MIND\\nWHEN NOT IN USE\\nIf you are not using your scooter for more than \\n5 days, leave it in Shutdown Mode to prevent \\nbattery drain.\\nQUICK CLEAN-UP\\nRegularly cleaning the vents avoids the risk of \\ndamage caused due to insuﬃcient ventilation, \\nchoking and insulation of the heat dissipation \\ncomponents. Keep the motor and battery vents \\nspic and span.\\nEXTEND YOUR BATTERY LIFE\\n•Use of Optimised Charging feature is \\nrecommended. It helps control battery ageing.\\n•Always use the original charger provided by Ather \\nto charge your vehicle. Avoid using 3rd party \\nchargers.\\n•Shut down (vacation mode) the vehicle when it \\nremains idle for a few days, to prevent accidental \\nbattery draining.\\nCaring for your scooter 40Disclaimer: Optimised Charging available only with the Pro.', metadata={'source': 'E:\\\\langchain\\\\rag\\\\450X_Gen_4_2023_QSG.pdf', 'page': 45}),\n",
       " Document(page_content='PULLING AND PUSHING\\nTurn the motor OFF using the kill switch when pulling \\nthe scooter back or pushing the scooter on a \\ndecline.\\nCAUTION\\nDo not try to hold the scooter at a place using partial \\nacceleration, while on a slope. In all likelihood, it will \\ndamage the motor.\\nCaring for your scooter 41', metadata={'source': 'E:\\\\langchain\\\\rag\\\\450X_Gen_4_2023_QSG.pdf', 'page': 46}),\n",
       " Document(page_content='TROUBLESHOOTING\\nIf you’re facing a technical issue, have any doubts or \\nqueries, please call us up.\\n+91 7676 811 777\\nIn case this number is unreachable, please check \\nfor the updated number on atherenergy.com or the \\nAther app.\\nCAUTION\\nDo not attempt to service the scooter on your own \\nor at an unauthorised service centre. Sure, the \\nscooter belongs to you and you may do as you \\nplease. But we know it inside out, and it’s not as \\neasy as it may seem. Let us take the lead and \\nservice the scooter for you.\\nDISCLAIMER\\nAther Energy Private Limited (\"Ather\") takes \\nreasonable care to ensure the accuracy of the \\ninformation contained herein, but it shall not be \\nresponsible for any inadvertent errors or omissions \\nthat may appear in this document. All trademarks\\nCaring for your scooter 42', metadata={'source': 'E:\\\\langchain\\\\rag\\\\450X_Gen_4_2023_QSG.pdf', 'page': 47}),\n",
       " Document(page_content='are the property of their respective owners.\\nThe use of Ather 450X electric scooter (\"Ather \\n450X\") shall be governed by the terms and \\nconditions of the agreement entered between you \\nand Ather during purchase (\"Agreement\"). Ather \\nmakes no warranties of merchantability and/or \\nﬁtness for a particular purpose, in relation to the \\naccuracy, reliability or contents of this document. \\nYou acknowledge that any usage of Ather 450X in \\ncontravention with this document may render the \\nwarranty void. Ather reserves the right to update \\nthis document and/or discontinue Ather 450X at any \\ntime without notice. Speciﬁcations/features are \\nsubject to change without notice.\\nCaring for your scooter 43', metadata={'source': 'E:\\\\langchain\\\\rag\\\\450X_Gen_4_2023_QSG.pdf', 'page': 48}),\n",
       " Document(page_content='', metadata={'source': 'E:\\\\langchain\\\\rag\\\\450X_Gen_4_2023_QSG.pdf', 'page': 49})]"
      ]
     },
     "execution_count": 12,
     "metadata": {},
     "output_type": "execute_result"
    }
   ],
   "source": [
    "docs"
   ]
  },
  {
   "cell_type": "code",
   "execution_count": 12,
   "metadata": {},
   "outputs": [
    {
     "data": {
      "text/plain": [
       "[Document(page_content='The world must be made safe for democracy. Its peace must be planted upon the tested foundations of', metadata={'source': 'speech.txt'}),\n",
       " Document(page_content='foundations of political liberty. We have no selfish ends to serve. We desire no conquest, no', metadata={'source': 'speech.txt'}),\n",
       " Document(page_content='no conquest, no dominion. We seek no indemnities for ourselves, no material compensation for the', metadata={'source': 'speech.txt'}),\n",
       " Document(page_content='for the sacrifices we shall freely make. We are but one of the champions of the rights of mankind.', metadata={'source': 'speech.txt'}),\n",
       " Document(page_content='rights of mankind. We shall be satisfied when those rights have been made as secure as the faith', metadata={'source': 'speech.txt'}),\n",
       " Document(page_content='secure as the faith and the freedom of nations can make them.', metadata={'source': 'speech.txt'}),\n",
       " Document(page_content='Just because we fight without rancor and without selfish object, seeking nothing for ourselves but', metadata={'source': 'speech.txt'}),\n",
       " Document(page_content='for ourselves but what we shall wish to share with all free peoples, we shall, I feel confident,', metadata={'source': 'speech.txt'}),\n",
       " Document(page_content='I feel confident, conduct our operations as belligerents without passion and ourselves observe with', metadata={'source': 'speech.txt'}),\n",
       " Document(page_content='observe with proud punctilio the principles of right and of fair play we profess to be fighting', metadata={'source': 'speech.txt'}),\n",
       " Document(page_content='to be fighting for.', metadata={'source': 'speech.txt'})]"
      ]
     },
     "execution_count": 12,
     "metadata": {},
     "output_type": "execute_result"
    }
   ],
   "source": [
    "#split the text in the documnets into chunks\n",
    "from langchain.text_splitter import RecursiveCharacterTextSplitter\n",
    "text_splitter=RecursiveCharacterTextSplitter(chunk_size=100,chunk_overlap=20)\n",
    "documents=text_splitter.split_documents(text_documents)\n",
    "documents"
   ]
  },
  {
   "cell_type": "code",
   "execution_count": 5,
   "metadata": {},
   "outputs": [],
   "source": [
    "from langchain_community.embeddings import OllamaEmbeddings\n",
    "## FAISS Vector Database\n",
    "from langchain_community.vectorstores import FAISS\n",
    "db = FAISS.from_documents(documents[:5], OllamaEmbeddings())\n"
   ]
  },
  {
   "cell_type": "code",
   "execution_count": 15,
   "metadata": {},
   "outputs": [
    {
     "name": "stdout",
     "output_type": "stream",
     "text": [
      "rights of mankind. We shall be satisfied when those rights have been made as secure as the faith\n"
     ]
    }
   ],
   "source": [
    "query = \"when should we get satisfied\"\n",
    "retireved_results=db.similarity_search(query)\n",
    "print(retireved_results[0].page_content)"
   ]
  }
 ],
 "metadata": {
  "kernelspec": {
   "display_name": "chatbot",
   "language": "python",
   "name": "python3"
  },
  "language_info": {
   "codemirror_mode": {
    "name": "ipython",
    "version": 3
   },
   "file_extension": ".py",
   "mimetype": "text/x-python",
   "name": "python",
   "nbconvert_exporter": "python",
   "pygments_lexer": "ipython3",
   "version": "3.10.4"
  }
 },
 "nbformat": 4,
 "nbformat_minor": 2
}
